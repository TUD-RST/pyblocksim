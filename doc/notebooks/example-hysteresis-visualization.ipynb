{
 "cells": [
  {
   "cell_type": "markdown",
   "metadata": {},
   "source": [
    "This notebook demonstrates how to continuously emulate the behavior of a discrete hysteresis element.\n",
    "\n",
    "It uses a combination of a linear-first-order-element (\"PT1\") and a $\\tanh(\\cdot)$-function.\n",
    "\n",
    "It also contains a very rough prototype for how to automatically visualize `pyblocksim`-models."
   ]
  },
  {
   "cell_type": "code",
   "execution_count": 1,
   "metadata": {},
   "outputs": [
    {
     "name": "stdout",
     "output_type": "stream",
     "text": [
      "Tue Dec 14 00:12:05 2021\n"
     ]
    }
   ],
   "source": [
    "import time\n",
    "print(time.ctime())\n",
    "%load_ext ipydex.displaytools"
   ]
  },
  {
   "cell_type": "code",
   "execution_count": 2,
   "metadata": {},
   "outputs": [],
   "source": [
    "import numpy as np\n",
    "import sympy as sp\n",
    "from matplotlib import pyplot as plt\n",
    "\n",
    "import pyblocksim as pbs\n",
    "s = pbs.s # Laplace-Variable"
   ]
  },
  {
   "cell_type": "code",
   "execution_count": 3,
   "metadata": {},
   "outputs": [],
   "source": [
    "# switching tresholds for hysteresis\n",
    "x1 = 4  # switching down\n",
    "x2 = 8  # switching up\n",
    "\n",
    "# output values of the hysteresis system\n",
    "y1 = 2\n",
    "y2 = 14\n",
    "\n",
    "# time constant of the internal linear-first-order (PT1)\n",
    "T_storage = 1e-4"
   ]
  },
  {
   "cell_type": "code",
   "execution_count": 4,
   "metadata": {},
   "outputs": [],
   "source": [
    "def step_factory(y0, y1, x_step=0, tanh_scaling_factor=1e3):\n",
    "    \"\"\"\n",
    "    Factory to create continously approximated step functions.\n",
    "    \n",
    "    :param y0:       start value of the step function\n",
    "    :param y1:       final value of the step function\n",
    "    :param x_step:   x-value at which the step occurs\n",
    "                     (better: middle point of the step). \n",
    "    \n",
    "    :param tanh_scaling_factor:\n",
    "                     scaling of shifted x-value, such that the tanh-func\n",
    "                     becomes more rectangular for bigger values. Default 1e3\n",
    "    \n",
    "    \"\"\"\n",
    "    # tanh maps R to (-1, 1)\n",
    "\n",
    "    # first map R to (0, 1)\n",
    "    # then map (0, 1) -> (y0, y1)\n",
    "\n",
    "    dy = y1-y0\n",
    "\n",
    "    def fnc(x, module=sp):\n",
    "        \"\"\"\n",
    "        The step function (depends on external variables x_step, dy and y0).\n",
    "        \n",
    "        :param x:       argument of the step function\n",
    "        :param module:  module object from which to take the tanh-func (numpy or sympy)\n",
    "        \"\"\"\n",
    "        \n",
    "        z1 = tanh_scaling_factor*(x-x_step)  # shift and scale x-axis\n",
    "        z2 = module.tanh(z1)  # map z1 ∈ (-inf, inf) to interval (-1, 1)\n",
    "        z3 = (z2 +1 )/2  # map z2 ∈ (-1, 1) to (0, 1)\n",
    "        z4 = z3*dy + y0  # map z3 ∈ (0, 1) to (y0, y1)\n",
    "        \n",
    "        return z4\n",
    "\n",
    "    # save docstring and step parameters\n",
    "    fnc.__doc__ = \"approximated step function %f, %f, %f\" % (y0, y1, x_step)\n",
    "    fnc.x_step = x_step\n",
    "    fnc.y0 = y0\n",
    "    fnc.y1 = y1\n",
    "    fnc.tanh_scaling_factor = tanh_scaling_factor\n",
    "\n",
    "    return fnc"
   ]
  },
  {
   "cell_type": "code",
   "execution_count": 5,
   "metadata": {},
   "outputs": [
    {
     "data": {
      "text/plain": [
       "<matplotlib.collections.LineCollection at 0x7f7db6bd6220>"
      ]
     },
     "execution_count": 5,
     "metadata": {},
     "output_type": "execute_result"
    },
    {
     "data": {
      "image/png": "[encoded data removed]",
      "text/plain": [
       "<Figure size 432x288 with 1 Axes>"
      ]
     },
     "metadata": {
      "needs_background": "light"
     },
     "output_type": "display_data"
    }
   ],
   "source": [
    "# Visualize smoothed step-function\n",
    "\n",
    "# for demo purpose the tanh_scaling_factor is choosen very small here\n",
    "demo_step = step_factory(y0=7, y1=12, x_step=2.5, tanh_scaling_factor=5)\n",
    "\n",
    "xx = np.linspace(-1, 4, 1000)\n",
    "yy = demo_step(xx, module=np)\n",
    "\n",
    "plt.plot(xx, yy)\n",
    "\n",
    "# vertical line\n",
    "plt.vlines([demo_step.x_step], demo_step.y0, demo_step.y1, color=\"r\", ls=\"--\")"
   ]
  },
  {
   "cell_type": "markdown",
   "metadata": {},
   "source": [
    "This function can now be used to continuously approximate static functions with jump discontinuities."
   ]
  },
  {
   "cell_type": "code",
   "execution_count": 6,
   "metadata": {},
   "outputs": [
    {
     "data": {
      "image/png": "[encoded data removed]",
      "text/plain": [
       "<Figure size 432x288 with 1 Axes>"
      ]
     },
     "metadata": {
      "needs_background": "light"
     },
     "output_type": "display_data"
    }
   ],
   "source": [
    "# define two step functions whose sum is used as a three-point-element\n",
    "step1 = step_factory(-1, 0, x1)\n",
    "step2 = step_factory(0, 1, x2)\n",
    "\n",
    "\n",
    "# visualize this sum\n",
    "xx = np.linspace(1, 10, int(1e5))\n",
    "\n",
    "plt.plot(xx, step1(xx, np) + step2(xx, np), lw=3, label=\"step1 + step2\", alpha=0.5)\n",
    "plt.plot(xx, step1(xx, np), \"--\", label=\"step1\")\n",
    "plt.plot(xx, step2(xx, np), \"--\", label=\"step2\")\n",
    "plt.legend()\n",
    "plt.xlabel(\"x (input signal)\")\n",
    "plt.ylabel(\"y (output signal)\");"
   ]
  },
  {
   "cell_type": "code",
   "execution_count": 7,
   "metadata": {},
   "outputs": [
    {
     "data": {
      "text/plain": [
       "[<matplotlib.lines.Line2D at 0x7f7db4b417f0>]"
      ]
     },
     "execution_count": 7,
     "metadata": {},
     "output_type": "execute_result"
    },
    {
     "data": {
      "image/png": "[encoded data removed]",
      "text/plain": [
       "<Figure size 432x288 with 1 Axes>"
      ]
     },
     "metadata": {
      "needs_background": "light"
     },
     "output_type": "display_data"
    }
   ],
   "source": [
    "# define a third step-function which will limits the input of the memory-PT1 between between 0 and 1\n",
    "# its jump location is approx. 0.63 (special value of PT1)\n",
    "time_const_value = 1 - np.exp(-1) # approx 0.63\n",
    "step3 = step_factory(0, 1, time_const_value)\n",
    "\n",
    "xx = np.linspace(-0.5, 2, int(1e5))\n",
    "plt.plot(xx, step3(xx, np))"
   ]
  },
  {
   "cell_type": "markdown",
   "metadata": {},
   "source": [
    "Now we create the blocks and linkt them together as shown in this diagram (which is automatically created below):\n",
    "\n",
    "\n",
    "<img src=\"blockdiag.svg\">\n",
    "\n",
    "\n",
    "Note: For technical reasons the numerator and the denominator of transferfunctions are depicted as separate blocks."
   ]
  },
  {
   "cell_type": "code",
   "execution_count": 8,
   "metadata": {},
   "outputs": [],
   "source": [
    "hyst_in, fb = pbs.inputs('hyst_in, fb') # overall input of hysteresis and internal feedback\n",
    "# the feedback signal will be connected later to the output of a block yet to be defined\n",
    "\n",
    "\n",
    "# the sum of the two step-functions (≙ three-point-controller) + feedback signal\n",
    "SUM1 = pbs.Blockfnc(step1(hyst_in) + step2(hyst_in) + fb)\n",
    "\n",
    "# restrict the output of this sum to values in [0, 1]\n",
    "LIMITER = pbs.Blockfnc(step3(SUM1.Y))\n",
    "\n",
    "# define the memory block as PT1 with gain = 1 and time constant `T_storage`\n",
    "# its input is ∈ [0, 1], thus its output also is ∈ [0, 1]\n",
    "PT1_storage = pbs.TFBlock(1/(T_storage*s + 1), LIMITER.Y)\n",
    "\n",
    "# close the loop: connect PT1-output with fb-signal\n",
    "pbs.loop(PT1_storage.Y, fb)\n",
    "\n",
    "# Note, this is the main idea of this approach:\n",
    "# The PT1 is very fast, its output is either 0 or 1.\n",
    "# The feeback of the \"1-output\" ensures that the input of the PT1 remains 1\n",
    "# if the output of the three-point-element is at least 0.\n",
    "\n",
    "# Once the output of the three-point-element is -1 the combined output of `SUM1` is 0.\n",
    "# The PT1 gets 0 at the input and its output rapidly falls to 0.\n",
    "# Then we have a feedback of the \"0-output\" and thus the output of `SUM1` is -1\n",
    "# But due to the LIMITER element the input of the PT1 is still 0\n",
    "\n",
    "# The state (and the output) of the PT1 only shifts from 0 to 1 if the output of the\n",
    "# three-point-element is 1.\n",
    "\n",
    "\n",
    "# Final block: scale and offset for the output to achieve mapping from [0, 1] to [y1, y2]\n",
    "Result_block = pbs.Blockfnc(PT1_storage.Y*(y2-y1) + y1)\n",
    "\n"
   ]
  },
  {
   "cell_type": "code",
   "execution_count": 9,
   "metadata": {},
   "outputs": [],
   "source": [
    "def input_ramps(t):\n",
    "\n",
    "    T1 = 10\n",
    "    T2 = 20\n",
    "    k1 = 1\n",
    "    k2 = 1\n",
    "\n",
    "    if t < 0:\n",
    "        return 0\n",
    "    elif t < T1:\n",
    "        return k1*t\n",
    "    elif t < T2:\n",
    "        return k1*T1 - k2*(t-T1)\n",
    "    else:\n",
    "        return 0\n"
   ]
  },
  {
   "cell_type": "code",
   "execution_count": 10,
   "metadata": {},
   "outputs": [],
   "source": [
    "# perform the simulation\n",
    "tt, states = pbs.blocksimulation(25, {hyst_in: input_ramps}) # simulate\n",
    "tt = tt.flatten()\n",
    "\n",
    "# compute the outputs from the trajectories of the state-components\n",
    "bo = pbs.compute_block_ouptputs(states)\n",
    "\n",
    "# recalculate the input-signal (for visualization)\n",
    "input_signal = [input_ramps(t) for t in tt]\n"
   ]
  },
  {
   "cell_type": "code",
   "execution_count": 11,
   "metadata": {},
   "outputs": [
    {
     "data": {
      "image/png": "[encoded data removed]",
      "text/plain": [
       "<Figure size 1224x360 with 2 Axes>"
      ]
     },
     "metadata": {
      "needs_background": "light"
     },
     "output_type": "display_data"
    }
   ],
   "source": [
    "fig, (ax1, ax2) = plt.subplots(1, 2, figsize=(17, 5));\n",
    "plt.sca(ax1)  # set current axis\n",
    "\n",
    "plt.plot(tt, input_signal, label='input')\n",
    "plt.plot(tt, bo[Result_block], label='hyst. output')\n",
    "plt.xlabel('time in s')\n",
    "\n",
    "plt.grid(1)\n",
    "plt.legend()\n",
    "\n",
    "plt.sca(ax2)  # set current axis\n",
    "plt.plot(input_signal, bo[Result_block])\n",
    "plt.xlabel('input signal')\n",
    "plt.ylabel('hysteresis-output')\n",
    "\n",
    "plt.show()"
   ]
  },
  {
   "cell_type": "markdown",
   "metadata": {},
   "source": [
    "The hysteresis element works as expected: The output jumps from $y_1=2$ to $y_2=14$ as soon as the input rises above $x_1=8$. The output jumps back to  $y_1=2$, as soon as the input falls below $x_2=4$.\n",
    "\n",
    "The values of $x_1, x_2, y_1, y_2$ are defined above at the beginning of the notebook."
   ]
  },
  {
   "cell_type": "markdown",
   "metadata": {},
   "source": [
    "---\n",
    "\n",
    "## Render blockdiagram\n",
    "\n",
    "The following code is not directly related to simulating the hysteresis element. However, it is needed to produce the illustrative blockdiagram above and thus is indirectly realated to the hysteresis problem."
   ]
  },
  {
   "cell_type": "code",
   "execution_count": 13,
   "metadata": {},
   "outputs": [],
   "source": [
    "\n",
    "from blockdiag import parser, builder, drawer\n",
    "from IPython.display import SVG, display\n",
    "\n",
    "def render_bdiag(source):\n",
    "    # source: https://stackoverflow.com/a/67819592/333403\n",
    "\n",
    "    tree = parser.parse_string(source)\n",
    "    diagram = builder.ScreenNodeBuilder.build(tree)\n",
    "    draw = drawer.DiagramDraw('svg', diagram, filename=\"blockdiag.svg\")\n",
    "    draw.draw()\n",
    "    svg_source = draw.save()\n",
    "    display(SVG(svg_source))\n"
   ]
  },
  {
   "cell_type": "code",
   "execution_count": 14,
   "metadata": {},
   "outputs": [
    {
     "data": {
      "text/plain": [
       "OrderedDict([('SUM1', Blockfnc:SUM1),\n",
       "             ('LIMITER', Blockfnc:LIMITER),\n",
       "             ('PT1_storage_denom', IBlock:PT1_storage_denom),\n",
       "             ('PT1_storage_num', NILBlock:PT1_storage_num),\n",
       "             ('PT1_storage', TFBlock:PT1_storage),\n",
       "             ('Result_block', Blockfnc:Result_block)])"
      ]
     },
     "execution_count": 14,
     "metadata": {},
     "output_type": "execute_result"
    }
   ],
   "source": [
    "pbs.theStateAdmin.allBlockNames"
   ]
  },
  {
   "cell_type": "code",
   "execution_count": 15,
   "metadata": {},
   "outputs": [],
   "source": [
    "aa = pbs.theStateAdmin"
   ]
  },
  {
   "cell_type": "code",
   "execution_count": 16,
   "metadata": {},
   "outputs": [],
   "source": [
    "real_inputs = [sig for sig in aa.inputs if sig not in aa.loops]"
   ]
  },
  {
   "cell_type": "code",
   "execution_count": 17,
   "metadata": {},
   "outputs": [],
   "source": [
    "def nodevar_generator():\n",
    "    for i in range(26):\n",
    "        yield chr(ord(\"A\")+i)"
   ]
  },
  {
   "cell_type": "code",
   "execution_count": 18,
   "metadata": {},
   "outputs": [
    {
     "data": {
      "text/plain": [
       "OrderedDict([(fb, Y03)])"
      ]
     },
     "execution_count": 18,
     "metadata": {},
     "output_type": "execute_result"
    }
   ],
   "source": [
    "# We have one loop: fb = Y03\n",
    "aa.loops"
   ]
  },
  {
   "cell_type": "code",
   "execution_count": 19,
   "metadata": {},
   "outputs": [
    {
     "data": {
      "text/plain": [
       "signal_node_map := {hyst_in: ('A', 'System Input 0', None),\n",
       " Y00: ('B', 'SUM1', Blockfnc:SUM1),\n",
       " Y01: ('C', 'LIMITER', Blockfnc:LIMITER),\n",
       " Y02: ('D', 'PT1_storage_denom', IBlock:PT1_storage_denom),\n",
       " Y03: ('F', 'PT1_storage', TFBlock:PT1_storage),\n",
       " Y04: ('G', 'Result_block', Blockfnc:Result_block)}"
      ]
     },
     "metadata": {},
     "output_type": "display_data"
    },
    {
     "data": {
      "text/plain": [
       "---"
      ]
     },
     "metadata": {},
     "output_type": "display_data"
    }
   ],
   "source": [
    "# create nodes\n",
    "nodevar = nodevar_generator()\n",
    "nodes = [(sig, (next(nodevar), f\"System Input {i}\", None)) for i, sig in enumerate(real_inputs)]\n",
    "nodes += [(block.Y, (next(nodevar), block.name, block)) for i, block in enumerate(aa.allBlocks.values())]\n",
    "signal_node_map = dict(nodes) ##:"
   ]
  },
  {
   "cell_type": "code",
   "execution_count": 20,
   "metadata": {},
   "outputs": [],
   "source": [
    "connections = []\n",
    "\n",
    "for block in aa.allBlocks.values():\n",
    "    # TODO: all block should have an interface for this\n",
    "    # Blockfunctions have multiple inputs (sums, products, etc), they are called .symbs\n",
    "    block_inputs = getattr(block, \"symbs\", None)\n",
    "    \n",
    "    # other blocks only have one input (called .X)\n",
    "    if block_inputs is None:\n",
    "        block_inputs = [block.X]\n",
    "        \n",
    "    target_nodevar = signal_node_map[block.Y][0]\n",
    "        \n",
    "    for bi in block_inputs:\n",
    "        \n",
    "        value = signal_node_map.get(bi)\n",
    "                \n",
    "        if value:\n",
    "            source_nodevar, label, source_block = value\n",
    "            connections.append((source_nodevar, target_nodevar))\n",
    "        \n",
    "        \n",
    "        if bi in aa.loops:\n",
    "            sig2 = aa.loops[bi]\n",
    "            value = signal_node_map.get(sig2)\n",
    "            if value:\n",
    "                source_nodevar, label, source_block = value\n",
    "                connections.append((source_nodevar, target_nodevar))\n",
    "\n"
   ]
  },
  {
   "cell_type": "code",
   "execution_count": 21,
   "metadata": {},
   "outputs": [],
   "source": [
    "nodes_doc = \"\\n    \".join([f'{v[0]} [label = \"{v[1]}\"];' for v in signal_node_map.values()])\n",
    "edges_doc = \"\\n    \".join([f'{c[0]} -> {c[1]};' for c in connections])\n",
    "\n",
    "bdiag_doc = f\"\"\"\n",
    "blockdiag {{\n",
    "    // nodes\n",
    "    {nodes_doc}\n",
    "   \n",
    "    // edges\n",
    "    {edges_doc}\n",
    "}}\n",
    "\"\"\""
   ]
  },
  {
   "cell_type": "code",
   "execution_count": 22,
   "metadata": {},
   "outputs": [
    {
     "name": "stdout",
     "output_type": "stream",
     "text": [
      "\n",
      "blockdiag {\n",
      "    // nodes\n",
      "    A [label = \"System Input 0\"];\n",
      "    B [label = \"SUM1\"];\n",
      "    C [label = \"LIMITER\"];\n",
      "    D [label = \"PT1_storage_denom\"];\n",
      "    F [label = \"PT1_storage\"];\n",
      "    G [label = \"Result_block\"];\n",
      "\n",
      "    // edges\n",
      "    A -> B;\n",
      "    F -> B;\n",
      "    B -> C;\n",
      "    C -> D;\n",
      "    D -> F;\n",
      "    C -> F;\n",
      "    F -> G;\n",
      "}\n",
      "\n"
     ]
    }
   ],
   "source": [
    "print(bdiag_doc)"
   ]
  },
  {
   "cell_type": "code",
   "execution_count": 23,
   "metadata": {},
   "outputs": [
    {
     "data": {
      "image/svg+xml": [
       "<svg xmlns=\"http://www.w3.org/2000/svg\" xmlns:inkspace=\"http://www.inkscape.org/namespaces/inkscape\" xmlns:xlink=\"http://www.w3.org/1999/xlink\" viewBox=\"0 0 1216 120\">\n",
       "  <defs id=\"defs_block\">\n",
       "    <filter height=\"1.504\" id=\"filter_blur\" inkspace:collect=\"always\" width=\"1.1575\" x=\"-0.07875\" y=\"-0.252\">\n",
       "      <feGaussianBlur id=\"feGaussianBlur3780\" inkspace:collect=\"always\" stdDeviation=\"4.2\"/>\n",
       "    </filter>\n",
       "  </defs>\n",
       "  <title>blockdiag</title>\n",
       "  <desc/>\n",
       "  <rect fill=\"rgb(0,0,0)\" height=\"40\" stroke=\"rgb(0,0,0)\" style=\"filter:url(#filter_blur);opacity:0.7;fill-opacity:1\" width=\"128\" x=\"67\" y=\"46\"/>\n",
       "  <rect fill=\"rgb(0,0,0)\" height=\"40\" stroke=\"rgb(0,0,0)\" style=\"filter:url(#filter_blur);opacity:0.7;fill-opacity:1\" width=\"128\" x=\"259\" y=\"46\"/>\n",
       "  <rect fill=\"rgb(0,0,0)\" height=\"40\" stroke=\"rgb(0,0,0)\" style=\"filter:url(#filter_blur);opacity:0.7;fill-opacity:1\" width=\"128\" x=\"1027\" y=\"46\"/>\n",
       "  <rect fill=\"rgb(0,0,0)\" height=\"40\" stroke=\"rgb(0,0,0)\" style=\"filter:url(#filter_blur);opacity:0.7;fill-opacity:1\" width=\"128\" x=\"451\" y=\"46\"/>\n",
       "  <rect fill=\"rgb(0,0,0)\" height=\"40\" stroke=\"rgb(0,0,0)\" style=\"filter:url(#filter_blur);opacity:0.7;fill-opacity:1\" width=\"128\" x=\"643\" y=\"46\"/>\n",
       "  <rect fill=\"rgb(0,0,0)\" height=\"40\" stroke=\"rgb(0,0,0)\" style=\"filter:url(#filter_blur);opacity:0.7;fill-opacity:1\" width=\"128\" x=\"835\" y=\"46\"/>\n",
       "  <rect fill=\"rgb(255,255,255)\" height=\"40\" stroke=\"rgb(0,0,0)\" width=\"128\" x=\"64\" y=\"40\"/>\n",
       "  <text fill=\"rgb(0,0,0)\" font-family=\"sans-serif\" font-size=\"11\" font-style=\"normal\" font-weight=\"normal\" text-anchor=\"middle\" textLength=\"84\" x=\"128.0\" y=\"66\">System Input 0</text>\n",
       "  <rect fill=\"rgb(255,255,255)\" height=\"40\" stroke=\"rgb(0,0,0)\" width=\"128\" x=\"256\" y=\"40\"/>\n",
       "  <text fill=\"rgb(0,0,0)\" font-family=\"sans-serif\" font-size=\"11\" font-style=\"normal\" font-weight=\"normal\" text-anchor=\"middle\" textLength=\"24\" x=\"320.0\" y=\"66\">SUM1</text>\n",
       "  <rect fill=\"rgb(255,255,255)\" height=\"40\" stroke=\"rgb(0,0,0)\" width=\"128\" x=\"1024\" y=\"40\"/>\n",
       "  <text fill=\"rgb(0,0,0)\" font-family=\"sans-serif\" font-size=\"11\" font-style=\"normal\" font-weight=\"normal\" text-anchor=\"middle\" textLength=\"72\" x=\"1088.0\" y=\"66\">Result_block</text>\n",
       "  <rect fill=\"rgb(255,255,255)\" height=\"40\" stroke=\"rgb(0,0,0)\" width=\"128\" x=\"448\" y=\"40\"/>\n",
       "  <text fill=\"rgb(0,0,0)\" font-family=\"sans-serif\" font-size=\"11\" font-style=\"normal\" font-weight=\"normal\" text-anchor=\"middle\" textLength=\"42\" x=\"512.0\" y=\"66\">LIMITER</text>\n",
       "  <rect fill=\"rgb(255,255,255)\" height=\"40\" stroke=\"rgb(0,0,0)\" width=\"128\" x=\"640\" y=\"40\"/>\n",
       "  <text fill=\"rgb(0,0,0)\" font-family=\"sans-serif\" font-size=\"11\" font-style=\"normal\" font-weight=\"normal\" text-anchor=\"middle\" textLength=\"102\" x=\"704.0\" y=\"66\">PT1_storage_denom</text>\n",
       "  <rect fill=\"rgb(255,255,255)\" height=\"40\" stroke=\"rgb(0,0,0)\" width=\"128\" x=\"832\" y=\"40\"/>\n",
       "  <text fill=\"rgb(0,0,0)\" font-family=\"sans-serif\" font-size=\"11\" font-style=\"normal\" font-weight=\"normal\" text-anchor=\"middle\" textLength=\"66\" x=\"896.0\" y=\"66\">PT1_storage</text>\n",
       "  <path d=\"M 192 60 L 248 60\" fill=\"none\" stroke=\"rgb(0,0,0)\"/>\n",
       "  <polygon fill=\"rgb(0,0,0)\" points=\"255,60 248,56 248,64 255,60\" stroke=\"rgb(0,0,0)\"/>\n",
       "  <path d=\"M 384 60 L 440 60\" fill=\"none\" stroke=\"rgb(0,0,0)\"/>\n",
       "  <polygon fill=\"rgb(0,0,0)\" points=\"447,60 440,56 440,64 447,60\" stroke=\"rgb(0,0,0)\"/>\n",
       "  <path d=\"M 576 60 L 632 60\" fill=\"none\" stroke=\"rgb(0,0,0)\"/>\n",
       "  <polygon fill=\"rgb(0,0,0)\" points=\"639,60 632,56 632,64 639,60\" stroke=\"rgb(0,0,0)\"/>\n",
       "  <path d=\"M 576 60 L 608 60\" fill=\"none\" stroke=\"rgb(0,0,0)\"/>\n",
       "  <path d=\"M 608 60 L 608 100\" fill=\"none\" stroke=\"rgb(0,0,0)\"/>\n",
       "  <path d=\"M 608 100 L 816 100\" fill=\"none\" stroke=\"rgb(0,0,0)\"/>\n",
       "  <path d=\"M 816 100 L 816 60\" fill=\"none\" stroke=\"rgb(0,0,0)\"/>\n",
       "  <path d=\"M 816 60 L 824 60\" fill=\"none\" stroke=\"rgb(0,0,0)\"/>\n",
       "  <polygon fill=\"rgb(0,0,0)\" points=\"831,60 824,56 824,64 831,60\" stroke=\"rgb(0,0,0)\"/>\n",
       "  <path d=\"M 768 60 L 824 60\" fill=\"none\" stroke=\"rgb(0,0,0)\"/>\n",
       "  <polygon fill=\"rgb(0,0,0)\" points=\"831,60 824,56 824,64 831,60\" stroke=\"rgb(0,0,0)\"/>\n",
       "  <path d=\"M 960 60 L 976 60\" fill=\"none\" stroke=\"rgb(0,0,0)\"/>\n",
       "  <path d=\"M 976 60 L 976 25\" fill=\"none\" stroke=\"rgb(0,0,0)\"/>\n",
       "  <path d=\"M 320 25 L 976 25\" fill=\"none\" stroke=\"rgb(0,0,0)\"/>\n",
       "  <path d=\"M 320 25 L 320 32\" fill=\"none\" stroke=\"rgb(0,0,0)\"/>\n",
       "  <polygon fill=\"rgb(0,0,0)\" points=\"320,39 316,32 324,32 320,39\" stroke=\"rgb(0,0,0)\"/>\n",
       "  <path d=\"M 960 60 L 1016 60\" fill=\"none\" stroke=\"rgb(0,0,0)\"/>\n",
       "  <polygon fill=\"rgb(0,0,0)\" points=\"1023,60 1016,56 1016,64 1023,60\" stroke=\"rgb(0,0,0)\"/>\n",
       "</svg>"
      ],
      "text/plain": [
       "<IPython.core.display.SVG object>"
      ]
     },
     "metadata": {},
     "output_type": "display_data"
    }
   ],
   "source": [
    "render_bdiag(bdiag_doc)"
   ]
  },
  {
   "cell_type": "code",
   "execution_count": 24,
   "metadata": {},
   "outputs": [
    {
     "data": {
      "text/plain": [
       "[('A', 'B'),\n",
       " ('F', 'B'),\n",
       " ('B', 'C'),\n",
       " ('C', 'D'),\n",
       " ('D', 'F'),\n",
       " ('C', 'F'),\n",
       " ('F', 'G')]"
      ]
     },
     "execution_count": 24,
     "metadata": {},
     "output_type": "execute_result"
    }
   ],
   "source": [
    "connections"
   ]
  }
 ],
 "metadata": {
  "kernelspec": {
   "display_name": "Python 3",
   "language": "python",
   "name": "python3"
  },
  "language_info": {
   "codemirror_mode": {
    "name": "ipython",
    "version": 3
   },
   "file_extension": ".py",
   "mimetype": "text/x-python",
   "name": "python",
   "nbconvert_exporter": "python",
   "pygments_lexer": "ipython3",
   "version": "3.8.6"
  }
 },
 "nbformat": 4,
 "nbformat_minor": 4
}
